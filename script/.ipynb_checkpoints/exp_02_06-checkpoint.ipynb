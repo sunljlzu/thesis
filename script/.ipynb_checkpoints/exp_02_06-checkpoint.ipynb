{
 "cells": [
  {
   "cell_type": "code",
   "execution_count": 1,
   "metadata": {
    "collapsed": true
   },
   "outputs": [],
   "source": [
    "from functools import partial\n",
    "\n",
    "import numpy as np\n",
    "import pandas as pd\n",
    "from bayes_opt import BayesianOptimization\n",
    "from tqdm import tqdm\n",
    "\n",
    "from ths_slj.analysis import backtest, random_monte_test, bh_method\n",
    "\n"
   ]
  },
  {
   "cell_type": "code",
   "execution_count": 2,
   "metadata": {
    "pycharm": {
     "name": "#%%\n"
    }
   },
   "outputs": [],
   "source": [
    "# 测试贝叶斯优化测试集， 能否战胜随机\n",
    "# 训练集，测试集\n",
    "\n",
    "df_train = pd.read_csv('../data/train.csv')\n",
    "df_test = pd.read_csv('../data/test.csv')\n",
    "\n",
    "codes = df_train.code.unique()"
   ]
  },
  {
   "cell_type": "code",
   "execution_count": 3,
   "metadata": {
    "pycharm": {
     "name": "#%%\n"
    }
   },
   "outputs": [
    {
     "name": "stderr",
     "output_type": "stream",
     "text": [
      "100%|██████████| 846/846 [00:20<00:00, 41.91it/s]\n"
     ]
    }
   ],
   "source": [
    "# 第二步试验可以跳过\n",
    "ps = []\n",
    "\n",
    "for code in tqdm(codes):\n",
    "    _df = df_test.loc[df_test.code == code].set_index('Unnamed: 0')\n",
    "    _df.index.name = 'date'\n",
    "\n",
    "    res = random_monte_test(df=_df, hold_ratio=0.5, num_iter=100)\n",
    "    bh = _df.close.iloc[150:].pct_change().dropna()\n",
    "\n",
    "    res_bh = (bh.mean()*0.5)/(bh.std()+1e-12)*(252**0.5)\n",
    "    if res is not None:\n",
    "        ps.append((res > res_bh).sum()/len(res))\n"
   ]
  },
  {
   "cell_type": "code",
   "execution_count": 45,
   "metadata": {
    "pycharm": {
     "name": "#%%\n"
    }
   },
   "outputs": [
    {
     "data": {
      "text/plain": [
       "(array([387.9       , 258.6       , 189.64      , ...,   0.92071207,\n",
       "          0.94036364,   0.94      ]),\n",
       " 0)"
      ]
     },
     "execution_count": 45,
     "metadata": {},
     "output_type": "execute_result"
    }
   ],
   "source": [
    "# exact test\n",
    "# 只有0个股票通过了exact test\n",
    "\n",
    "bh_method(\n",
    "    np.sort(ps)\n",
    ")\n"
   ]
  },
  {
   "cell_type": "code",
   "execution_count": 3,
   "metadata": {
    "pycharm": {
     "name": "#%%\n"
    }
   },
   "outputs": [],
   "source": [
    "# todo sample Bayesian Optimization\n",
    "# BO 用botorch构造\n",
    "\n",
    "def _opt_fn(_tmp_df, ma1, ma2, ma3, y1, y2):\n",
    "    ret = backtest(_tmp_df, ma1, ma2, ma3, y1, y2)[0]\n",
    "\n",
    "    if ret is None:\n",
    "        return -1e6\n",
    "    else:\n",
    "        return ret\n",
    "\n",
    "def get_optimizer(func, pbounds):\n",
    "    return BayesianOptimization(\n",
    "        f=func,\n",
    "        pbounds=pbounds,\n",
    "        verbose=0,\n",
    "        random_state=1\n",
    "    )\n",
    "\n",
    "pbounds = {\n",
    "        'ma1': (0, 30),\n",
    "        'ma2': (30, 60),\n",
    "        'ma3': (60, 150),\n",
    "        'y1': (0.005, 0.3),\n",
    "        'y2': (-0.2, -0.005)\n",
    "        }"
   ]
  },
  {
   "cell_type": "code",
   "execution_count": null,
   "metadata": {
    "pycharm": {
     "name": "#%%\n"
    }
   },
   "outputs": [],
   "source": [
    "ps = []\n",
    "not_working = []\n",
    "for code in tqdm(codes):\n",
    "    _df = df_train.loc[df_train.code == code].set_index('Unnamed: 0')\n",
    "    _df.index.name = 'date'\n",
    "    _tmp_df = _df.copy()\n",
    "\n",
    "    opt_fn = partial(_opt_fn, _tmp_df=_tmp_df)\n",
    "    optimizer = get_optimizer(opt_fn, pbounds)\n",
    "    try:\n",
    "        optimizer.maximize(init_points=5, n_iter=15)\n",
    "    except:\n",
    "        not_working.append(code)\n",
    "        continue\n",
    "\n",
    "    _df_test = df_test.loc[df_test.code == code].set_index('Unnamed: 0')\n",
    "    _df_test.index.name = 'date'\n",
    "    _tmp_df = _df_test.copy()\n",
    "\n",
    "    ir_test = backtest(_tmp_df, **optimizer.max['params'])[0]\n",
    "\n",
    "    res = random_monte_test(df=_df, hold_ratio=0.5, num_iter=100)\n",
    "    if res is not None:\n",
    "        ps.append((ir_test, res.mean(), res.std(), (res > ir_test).sum()/len(res)))\n"
   ]
  },
  {
   "cell_type": "code",
   "execution_count": 21,
   "metadata": {
    "pycharm": {
     "name": "#%%\n"
    }
   },
   "outputs": [],
   "source": [
    "df_ps = pd.DataFrame(ps, columns=['ir_test', 'ir_crl_mean', 'ir_crl_std', 'p_value'])"
   ]
  },
  {
   "cell_type": "code",
   "execution_count": 29,
   "metadata": {
    "pycharm": {
     "name": "#%%\n"
    }
   },
   "outputs": [],
   "source": [
    "df_final = df_ps.loc[df_ps.ir_test != 0]"
   ]
  },
  {
   "cell_type": "code",
   "execution_count": 28,
   "metadata": {
    "pycharm": {
     "name": "#%%\n"
    }
   },
   "outputs": [
    {
     "data": {
      "text/html": [
       "<div>\n",
       "<style scoped>\n",
       "    .dataframe tbody tr th:only-of-type {\n",
       "        vertical-align: middle;\n",
       "    }\n",
       "\n",
       "    .dataframe tbody tr th {\n",
       "        vertical-align: top;\n",
       "    }\n",
       "\n",
       "    .dataframe thead th {\n",
       "        text-align: right;\n",
       "    }\n",
       "</style>\n",
       "<table border=\"1\" class=\"dataframe\">\n",
       "  <thead>\n",
       "    <tr style=\"text-align: right;\">\n",
       "      <th></th>\n",
       "      <th>ir_test</th>\n",
       "      <th>ir_crl_mean</th>\n",
       "      <th>ir_crl_std</th>\n",
       "      <th>p_value</th>\n",
       "    </tr>\n",
       "  </thead>\n",
       "  <tbody>\n",
       "    <tr>\n",
       "      <th>7</th>\n",
       "      <td>0.0</td>\n",
       "      <td>-0.800884</td>\n",
       "      <td>0.682747</td>\n",
       "      <td>0.12</td>\n",
       "    </tr>\n",
       "    <tr>\n",
       "      <th>9</th>\n",
       "      <td>0.0</td>\n",
       "      <td>-0.819247</td>\n",
       "      <td>0.664541</td>\n",
       "      <td>0.09</td>\n",
       "    </tr>\n",
       "    <tr>\n",
       "      <th>13</th>\n",
       "      <td>0.0</td>\n",
       "      <td>-0.740624</td>\n",
       "      <td>0.629651</td>\n",
       "      <td>0.11</td>\n",
       "    </tr>\n",
       "    <tr>\n",
       "      <th>15</th>\n",
       "      <td>0.0</td>\n",
       "      <td>-0.132279</td>\n",
       "      <td>0.535310</td>\n",
       "      <td>0.38</td>\n",
       "    </tr>\n",
       "    <tr>\n",
       "      <th>16</th>\n",
       "      <td>0.0</td>\n",
       "      <td>-0.992070</td>\n",
       "      <td>0.636672</td>\n",
       "      <td>0.07</td>\n",
       "    </tr>\n",
       "    <tr>\n",
       "      <th>...</th>\n",
       "      <td>...</td>\n",
       "      <td>...</td>\n",
       "      <td>...</td>\n",
       "      <td>...</td>\n",
       "    </tr>\n",
       "    <tr>\n",
       "      <th>794</th>\n",
       "      <td>0.0</td>\n",
       "      <td>-0.394817</td>\n",
       "      <td>0.614639</td>\n",
       "      <td>0.27</td>\n",
       "    </tr>\n",
       "    <tr>\n",
       "      <th>796</th>\n",
       "      <td>0.0</td>\n",
       "      <td>-1.637812</td>\n",
       "      <td>0.603622</td>\n",
       "      <td>0.00</td>\n",
       "    </tr>\n",
       "    <tr>\n",
       "      <th>801</th>\n",
       "      <td>0.0</td>\n",
       "      <td>-0.748134</td>\n",
       "      <td>0.571922</td>\n",
       "      <td>0.10</td>\n",
       "    </tr>\n",
       "    <tr>\n",
       "      <th>804</th>\n",
       "      <td>0.0</td>\n",
       "      <td>-1.035624</td>\n",
       "      <td>0.666217</td>\n",
       "      <td>0.03</td>\n",
       "    </tr>\n",
       "    <tr>\n",
       "      <th>805</th>\n",
       "      <td>0.0</td>\n",
       "      <td>-0.536984</td>\n",
       "      <td>0.623072</td>\n",
       "      <td>0.19</td>\n",
       "    </tr>\n",
       "  </tbody>\n",
       "</table>\n",
       "<p>198 rows × 4 columns</p>\n",
       "</div>"
      ],
      "text/plain": [
       "     ir_test  ir_crl_mean  ir_crl_std  p_value\n",
       "7        0.0    -0.800884    0.682747     0.12\n",
       "9        0.0    -0.819247    0.664541     0.09\n",
       "13       0.0    -0.740624    0.629651     0.11\n",
       "15       0.0    -0.132279    0.535310     0.38\n",
       "16       0.0    -0.992070    0.636672     0.07\n",
       "..       ...          ...         ...      ...\n",
       "794      0.0    -0.394817    0.614639     0.27\n",
       "796      0.0    -1.637812    0.603622     0.00\n",
       "801      0.0    -0.748134    0.571922     0.10\n",
       "804      0.0    -1.035624    0.666217     0.03\n",
       "805      0.0    -0.536984    0.623072     0.19\n",
       "\n",
       "[198 rows x 4 columns]"
      ]
     },
     "execution_count": 28,
     "metadata": {},
     "output_type": "execute_result"
    }
   ],
   "source": [
    "df_ps.loc[\n",
    "    (df_ps.ir_test == 0) |\n",
    "    # (df_ps.ir_crl_mean == 0)\n",
    "]"
   ]
  },
  {
   "cell_type": "code",
   "execution_count": 31,
   "metadata": {
    "pycharm": {
     "name": "#%%\n"
    }
   },
   "outputs": [
    {
     "data": {
      "text/plain": [
       "(array([0.        , 0.        , 0.        , 0.        , 0.        ,\n",
       "        0.        , 0.        , 0.        , 0.        , 0.        ,\n",
       "        0.        , 0.        , 0.        , 0.        , 0.        ,\n",
       "        0.        , 0.        , 0.        , 0.        , 0.        ,\n",
       "        0.        , 0.        , 0.        , 0.        , 0.        ,\n",
       "        0.        , 0.        , 0.        , 0.        , 0.        ,\n",
       "        0.        , 0.        , 0.        , 0.        , 0.        ,\n",
       "        0.        , 0.        , 0.        , 0.        , 0.        ,\n",
       "        0.        , 0.        , 0.        , 0.        , 0.        ,\n",
       "        0.        , 0.        , 0.        , 0.        , 0.        ,\n",
       "        0.        , 0.        , 0.        , 0.        , 0.        ,\n",
       "        0.        , 0.        , 0.        , 0.        , 0.        ,\n",
       "        0.        , 0.        , 0.        , 0.        , 0.        ,\n",
       "        0.        , 0.        , 0.        , 0.        , 0.        ,\n",
       "        0.        , 0.        , 0.        , 0.        , 0.        ,\n",
       "        0.        , 0.        , 0.        , 0.        , 0.        ,\n",
       "        0.        , 0.        , 0.        , 0.        , 0.        ,\n",
       "        0.        , 0.        , 0.        , 0.        , 0.        ,\n",
       "        0.        , 0.        , 0.        , 0.        , 0.        ,\n",
       "        0.        , 0.        , 0.        , 0.        , 0.        ,\n",
       "        0.        , 0.        , 0.        , 0.        , 0.        ,\n",
       "        0.        , 0.        , 0.        , 0.        , 0.        ,\n",
       "        0.        , 0.        , 0.        , 0.        , 0.        ,\n",
       "        0.        , 0.        , 0.        , 0.        , 0.        ,\n",
       "        0.        , 0.0502459 , 0.0498374 , 0.04943548, 0.04904   ,\n",
       "        0.04865079, 0.04826772, 0.04789062, 0.04751938, 0.04715385,\n",
       "        0.04679389, 0.04643939, 0.04609023, 0.04574627, 0.04540741,\n",
       "        0.04507353, 0.04474453, 0.04442029, 0.04410072, 0.04378571,\n",
       "        0.04347518, 0.04316901, 0.04286713, 0.04256944, 0.04227586,\n",
       "        0.0419863 , 0.04170068, 0.04141892, 0.04114094, 0.04086667,\n",
       "        0.04059603, 0.04032895, 0.04006536, 0.03980519, 0.07909677,\n",
       "        0.07858974, 0.07808917, 0.07759494, 0.07710692, 0.076625  ,\n",
       "        0.07614907, 0.07567901, 0.07521472, 0.0747561 , 0.07430303,\n",
       "        0.07385542, 0.07341317, 0.07297619, 0.07254438, 0.07211765,\n",
       "        0.07169591, 0.1069186 , 0.10630058, 0.10568966, 0.10508571,\n",
       "        0.10448864, 0.10389831, 0.10331461, 0.10273743, 0.10216667,\n",
       "        0.10160221, 0.10104396, 0.1004918 , 0.09994565, 0.09940541,\n",
       "        0.09887097, 0.13112299, 0.13042553, 0.12973545, 0.12905263,\n",
       "        0.12837696, 0.12770833, 0.12704663, 0.12639175, 0.12574359,\n",
       "        0.12510204, 0.12446701, 0.12383838, 0.12321608, 0.1226    ,\n",
       "        0.12199005, 0.15173267, 0.15098522, 0.1502451 , 0.1495122 ,\n",
       "        0.14878641, 0.14806763, 0.14735577, 0.14665072, 0.14595238,\n",
       "        0.14526066, 0.17349057, 0.17267606, 0.17186916, 0.17106977,\n",
       "        0.17027778, 0.16949309, 0.1687156 , 0.16794521, 0.16718182,\n",
       "        0.1941629 , 0.19328829, 0.19242152, 0.1915625 , 0.19071111,\n",
       "        0.18986726, 0.18903084, 0.18820175, 0.21414847, 0.21321739,\n",
       "        0.21229437, 0.21137931, 0.23678112, 0.23576923, 0.23476596,\n",
       "        0.23377119, 0.23278481, 0.23180672, 0.23083682, 0.25541667,\n",
       "        0.25435685, 0.25330579, 0.27748971, 0.27635246, 0.27522449,\n",
       "        0.27410569, 0.27299595, 0.27189516, 0.29542169, 0.29424   ,\n",
       "        0.31749004, 0.31623016, 0.31498024, 0.31374016, 0.3125098 ,\n",
       "        0.33523438, 0.33392996, 0.33263566, 0.33135135, 0.33007692,\n",
       "        0.32881226, 0.3509542 , 0.34961977, 0.34829545, 0.37011321,\n",
       "        0.3687218 , 0.39029963, 0.38884328, 0.38739777, 0.38596296,\n",
       "        0.38453875, 0.383125  , 0.42663004, 0.42507299, 0.42352727,\n",
       "        0.4442029 , 0.44259928, 0.44100719, 0.46139785, 0.45975   ,\n",
       "        0.47992883, 0.47822695, 0.4765371 , 0.47485915, 0.49470175,\n",
       "        0.49297203, 0.49125436, 0.51083333, 0.50906574, 0.50731034,\n",
       "        0.50556701, 0.52482877, 0.52303754, 0.5212585 , 0.51949153,\n",
       "        0.51773649, 0.51599327, 0.53483221, 0.53304348, 0.53126667,\n",
       "        0.52950166, 0.52774834, 0.54623762, 0.54444079, 0.5627541 ,\n",
       "        0.56091503, 0.55908795, 0.55727273, 0.55546926, 0.59322581,\n",
       "        0.59131833, 0.58942308, 0.58753994, 0.58566879, 0.58380952,\n",
       "        0.58196203, 0.59946372, 0.59757862, 0.61492163, 0.613     ,\n",
       "        0.61109034, 0.62822981, 0.62628483, 0.62435185, 0.62243077,\n",
       "        0.63932515, 0.63737003, 0.63542683, 0.63349544, 0.65015152,\n",
       "        0.64818731, 0.64623494, 0.64429429, 0.66071856, 0.65874627,\n",
       "        0.67502976, 0.67302671, 0.6891716 , 0.68713864, 0.68511765,\n",
       "        0.6831085 , 0.68111111, 0.67912536, 0.69497093, 0.69295652,\n",
       "        0.69095376, 0.68896254, 0.68698276, 0.7025788 , 0.70057143,\n",
       "        0.6985755 , 0.69659091, 0.711983  , 0.70997175, 0.74250704,\n",
       "        0.74042135, 0.75551821, 0.75340782, 0.78545961, 0.78327778,\n",
       "        0.78110803, 0.77895028, 0.79369146, 0.79151099, 0.78934247,\n",
       "        0.78718579, 0.80174387, 0.79956522, 0.81401084, 0.81181081,\n",
       "        0.80962264, 0.80744624, 0.8052815 , 0.81951872, 0.81733333,\n",
       "        0.81515957, 0.81299735, 0.84328042, 0.84105541, 0.83884211,\n",
       "        0.83664042, 0.83445026, 0.84827676, 0.84606771, 0.85979221,\n",
       "        0.85756477, 0.87118863, 0.8689433 , 0.86670951, 0.88020513,\n",
       "        0.87795396, 0.87571429, 0.88908397, 0.88682741, 0.90010127,\n",
       "        0.89782828, 0.89556675, 0.89331658, 0.9064411 , 0.9195    ,\n",
       "        0.91720698, 0.91492537, 0.91265509, 0.91039604, 0.92328395,\n",
       "        0.92100985, 0.91874693, 0.93151961, 0.92924205, 0.92697561,\n",
       "        0.93963504, 0.93735437, 0.93508475, 0.93282609, 0.9453494 ,\n",
       "        0.94307692, 0.95551559, 0.95322967, 0.95095465, 0.97788095,\n",
       "        0.97555819, 0.97324645, 0.97094563, 0.96865566, 0.9808    ,\n",
       "        0.99288732, 0.99056206, 0.98824766, 0.98594406, 0.98365116,\n",
       "        0.99559165, 0.99328704, 0.99099307, 1.0028341 , 1.01462069,\n",
       "        1.01229358, 1.02400458, 1.02166667, 1.01933941, 1.01702273,\n",
       "        1.01471655, 1.01242081, 1.02397291, 1.02166667, 1.01937079,\n",
       "        1.0170852 , 1.01480984, 1.02622768, 1.02394209, 1.02166667,\n",
       "        1.03299335, 1.03070796, 1.02843267, 1.0396696 , 1.03738462,\n",
       "        1.04855263, 1.05967177, 1.07074236, 1.06840959, 1.06608696,\n",
       "        1.0637744 , 1.07474026, 1.07241901, 1.07010776, 1.08098925,\n",
       "        1.07866953, 1.07635974, 1.08715812, 1.09791045, 1.09557447,\n",
       "        1.09324841, 1.0909322 , 1.08862579, 1.0992616 , 1.09694737,\n",
       "        1.09464286, 1.09234801, 1.09006276, 1.10058455, 1.09829167,\n",
       "        1.09600832, 1.09373444, 1.09146998, 1.08921488, 1.09960825,\n",
       "        1.09734568, 1.0950924 , 1.09284836, 1.0906135 , 1.08838776,\n",
       "        1.08617108, 1.09642276, 1.09419878, 1.09198381, 1.08977778,\n",
       "        1.08758065, 1.08539235, 1.08321285, 1.08104208, 1.07888   ,\n",
       "        1.07672655, 1.07458167, 1.08463221, 1.08248016, 1.08033663,\n",
       "        1.07820158, 1.08816568, 1.08602362, 1.0959332 , 1.09378431,\n",
       "        1.09164384, 1.10148438, 1.09933723, 1.09719844, 1.10697087,\n",
       "        1.10482558, 1.10268859, 1.10055985, 1.09843931, 1.09632692,\n",
       "        1.09422265, 1.09212644, 1.10175908, 1.09965649, 1.0975619 ,\n",
       "        1.09547529, 1.09339658, 1.09132576, 1.08926276, 1.09877358,\n",
       "        1.09670433, 1.10616541, 1.10409006, 1.10202247, 1.09996262,\n",
       "        1.09791045, 1.09586592, 1.10522305, 1.10317254, 1.10112963,\n",
       "        1.09909427, 1.09706642, 1.09504604, 1.09303309, 1.09102752,\n",
       "        1.0890293 , 1.08703839, 1.08505474, 1.08307832, 1.08110909,\n",
       "        1.07914701, 1.07719203, 1.07524412, 1.07330325, 1.08241441,\n",
       "        1.08046763, 1.07852783, 1.07659498, 1.07466905, 1.07275   ,\n",
       "        1.07083779, 1.06893238, 1.07792185, 1.07601064, 1.07410619,\n",
       "        1.07220848, 1.07031746, 1.0684331 , 1.06655536, 1.06468421,\n",
       "        1.06281961, 1.06096154, 1.05910995, 1.05726481, 1.05542609,\n",
       "        1.05359375, 1.05176776, 1.0499481 , 1.04813472, 1.05689655,\n",
       "        1.05507745, 1.0532646 , 1.05145798, 1.04965753, 1.04786325,\n",
       "        1.04607509, 1.04429302, 1.04251701, 1.04074703, 1.03898305,\n",
       "        1.03722504, 1.03547297, 1.03372681, 1.03198653, 1.0302521 ,\n",
       "        1.02852349, 1.02680067, 1.02508361, 1.02337229, 1.02166667,\n",
       "        1.01996672, 1.01827243, 1.01658375, 1.01490066, 1.01322314,\n",
       "        1.01155116, 1.00988468, 1.00822368, 1.00656814, 1.00491803,\n",
       "        1.00327332, 1.00163399, 1.        ]),\n",
       " 154)"
      ]
     },
     "execution_count": 31,
     "metadata": {},
     "output_type": "execute_result"
    }
   ],
   "source": [
    "# 试验结果显示\n",
    "# 有154只个股在控制fdr的情况下 仍然显著\n",
    "df_final.head()\n",
    "\n",
    "ps_2bh = np.sort(df_final.p_value.values)\n",
    "bh_method(ps_2bh)"
   ]
  },
  {
   "cell_type": "code",
   "execution_count": 34,
   "metadata": {
    "pycharm": {
     "name": "#%%\n"
    }
   },
   "outputs": [
    {
     "data": {
      "text/plain": [
       "(-0.10861332088379007, -0.5136614973744598)"
      ]
     },
     "execution_count": 34,
     "metadata": {},
     "output_type": "execute_result"
    }
   ],
   "source": [
    "df_final.ir_test.mean(), df_final.ir_crl_mean.mean()\n"
   ]
  },
  {
   "cell_type": "code",
   "execution_count": 35,
   "metadata": {
    "pycharm": {
     "name": "#%%\n"
    }
   },
   "outputs": [
    {
     "data": {
      "text/plain": [
       "(1.1663746031708535, 0.43882753620193876)"
      ]
     },
     "execution_count": 35,
     "metadata": {},
     "output_type": "execute_result"
    }
   ],
   "source": [
    "df_final.ir_test.std(), df_final.ir_crl_mean.std()\n",
    "\n"
   ]
  },
  {
   "cell_type": "code",
   "execution_count": 37,
   "metadata": {
    "pycharm": {
     "name": "#%%\n"
    }
   },
   "outputs": [],
   "source": [
    "df_final.to_csv('result.csv')\n"
   ]
  },
  {
   "cell_type": "code",
   "execution_count": 10,
   "metadata": {
    "pycharm": {
     "name": "#%%\n"
    }
   },
   "outputs": [
    {
     "name": "stderr",
     "output_type": "stream",
     "text": [
      "100%|██████████| 2/2 [20:18<00:00, 609.11s/it]\n"
     ]
    },
    {
     "name": "stdout",
     "output_type": "stream",
     "text": [
      "000011.XSHE\n",
      "000030.XSHE\n",
      "000055.XSHE\n",
      "000059.XSHE\n"
     ]
    },
    {
     "data": {
      "image/png": "[encoded data removed]",
      "text/plain": [
       "<Figure size 864x1152 with 4 Axes>"
      ]
     },
     "metadata": {},
     "output_type": "display_data"
    }
   ],
   "source": [
    "# 地貌图\n",
    "from matplotlib import pyplot as plt\n",
    "import seaborn as sns\n",
    "\n",
    "\n",
    "fig, axes = plt.subplots(2, 2, figsize=(12, 16))\n",
    "\n",
    "\n",
    "for _x in tqdm(range(2)):\n",
    "    for _y in range(2):\n",
    "        print(codes[_x*10+_y*3])\n",
    "        df_problem3 = df_train.loc[df_train.code == codes[_x*10+_y*3]].copy()\n",
    "        df_problem3.set_index('Unnamed: 0', inplace=True)\n",
    "        df_problem3.index.name = 'date'\n",
    "\n",
    "        bck_fn = partial(backtest, ma1=1, ma2=5, ma3=30)\n",
    "\n",
    "        xx = np.linspace(0.01, 0.1, 100)\n",
    "        yy = np.linspace(-0.1, -0.01, 100)\n",
    "\n",
    "        xy_draw = np.zeros((len(xx), len(yy)))\n",
    "\n",
    "        for i in range(len(xx)):\n",
    "            for j in range(len(yy)):\n",
    "                xy_draw[i, j] = bck_fn(df_problem3, y1=xx[i], y2=yy[j])[0]\n",
    "\n",
    "        sns.heatmap(xy_draw, cbar=False, ax=axes[_x][_y], cmap='Greys')\n",
    "        axes[_x][_y].set_xticks([])\n",
    "        axes[_x][_y].set_yticks([])\n",
    "\n",
    "\n",
    "plt.savefig('fig_0213.png')\n",
    "plt.show()"
   ]
  },
  {
   "cell_type": "code",
   "execution_count": null,
   "metadata": {
    "pycharm": {
     "name": "#%%\n"
    }
   },
   "outputs": [],
   "source": [
    "\n",
    "\n"
   ]
  },
  {
   "cell_type": "code",
   "execution_count": null,
   "metadata": {
    "pycharm": {
     "name": "#%%\n"
    }
   },
   "outputs": [],
   "source": []
  }
 ],
 "metadata": {
  "kernelspec": {
   "display_name": "Python 3",
   "language": "python",
   "name": "python3"
  },
  "language_info": {
   "codemirror_mode": {
    "name": "ipython",
    "version": 3
   },
   "file_extension": ".py",
   "mimetype": "text/x-python",
   "name": "python",
   "nbconvert_exporter": "python",
   "pygments_lexer": "ipython3",
   "version": "3.7.1"
  }
 },
 "nbformat": 4,
 "nbformat_minor": 1
}
