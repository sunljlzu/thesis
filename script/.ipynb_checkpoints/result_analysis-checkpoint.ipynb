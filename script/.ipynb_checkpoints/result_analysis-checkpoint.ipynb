{
 "cells": [
  {
   "cell_type": "code",
   "execution_count": 4,
   "metadata": {
    "collapsed": true
   },
   "outputs": [],
   "source": [
    "import pandas as pd\n",
    "import numpy as np\n",
    "\n",
    "import matplotlib.pyplot as plt"
   ]
  },
  {
   "cell_type": "code",
   "execution_count": 11,
   "metadata": {
    "pycharm": {
     "name": "#%%\n"
    }
   },
   "outputs": [
    {
     "data": {
      "text/html": [
       "<div>\n",
       "<style scoped>\n",
       "    .dataframe tbody tr th:only-of-type {\n",
       "        vertical-align: middle;\n",
       "    }\n",
       "\n",
       "    .dataframe tbody tr th {\n",
       "        vertical-align: top;\n",
       "    }\n",
       "\n",
       "    .dataframe thead th {\n",
       "        text-align: right;\n",
       "    }\n",
       "</style>\n",
       "<table border=\"1\" class=\"dataframe\">\n",
       "  <thead>\n",
       "    <tr style=\"text-align: right;\">\n",
       "      <th></th>\n",
       "      <th>ir_bo</th>\n",
       "      <th>ir_rd</th>\n",
       "      <th>p_value</th>\n",
       "      <th>params</th>\n",
       "    </tr>\n",
       "    <tr>\n",
       "      <th>code</th>\n",
       "      <th></th>\n",
       "      <th></th>\n",
       "      <th></th>\n",
       "      <th></th>\n",
       "    </tr>\n",
       "  </thead>\n",
       "  <tbody>\n",
       "    <tr>\n",
       "      <th>000514.XSHE</th>\n",
       "      <td>0.000000</td>\n",
       "      <td>0.000000</td>\n",
       "      <td>0.0</td>\n",
       "      <td>{'A1': 15.91512236995775, 'A2': 47.30053148790...</td>\n",
       "    </tr>\n",
       "    <tr>\n",
       "      <th>600814.XSHG</th>\n",
       "      <td>0.937871</td>\n",
       "      <td>0.160188</td>\n",
       "      <td>0.0</td>\n",
       "      <td>{'A1': 30.0, 'A2': 30.0, 'A3': 113.92827466523...</td>\n",
       "    </tr>\n",
       "    <tr>\n",
       "      <th>600810.XSHG</th>\n",
       "      <td>0.000000</td>\n",
       "      <td>0.000000</td>\n",
       "      <td>0.0</td>\n",
       "      <td>{'A1': 30.0, 'A2': 50.77722676128135, 'A3': 14...</td>\n",
       "    </tr>\n",
       "    <tr>\n",
       "      <th>000700.XSHE</th>\n",
       "      <td>2.210895</td>\n",
       "      <td>0.214871</td>\n",
       "      <td>0.0</td>\n",
       "      <td>{'A1': 29.75303368901085, 'A2': 45.63437687674...</td>\n",
       "    </tr>\n",
       "    <tr>\n",
       "      <th>600819.XSHG</th>\n",
       "      <td>1.235829</td>\n",
       "      <td>0.000000</td>\n",
       "      <td>0.0</td>\n",
       "      <td>{'A1': 30.0, 'A2': 30.0, 'A3': 137.53143318100...</td>\n",
       "    </tr>\n",
       "  </tbody>\n",
       "</table>\n",
       "</div>"
      ],
      "text/plain": [
       "                ir_bo     ir_rd  p_value  \\\n",
       "code                                       \n",
       "000514.XSHE  0.000000  0.000000      0.0   \n",
       "600814.XSHG  0.937871  0.160188      0.0   \n",
       "600810.XSHG  0.000000  0.000000      0.0   \n",
       "000700.XSHE  2.210895  0.214871      0.0   \n",
       "600819.XSHG  1.235829  0.000000      0.0   \n",
       "\n",
       "                                                        params  \n",
       "code                                                            \n",
       "000514.XSHE  {'A1': 15.91512236995775, 'A2': 47.30053148790...  \n",
       "600814.XSHG  {'A1': 30.0, 'A2': 30.0, 'A3': 113.92827466523...  \n",
       "600810.XSHG  {'A1': 30.0, 'A2': 50.77722676128135, 'A3': 14...  \n",
       "000700.XSHE  {'A1': 29.75303368901085, 'A2': 45.63437687674...  \n",
       "600819.XSHG  {'A1': 30.0, 'A2': 30.0, 'A3': 137.53143318100...  "
      ]
     },
     "execution_count": 11,
     "metadata": {},
     "output_type": "execute_result"
    }
   ],
   "source": [
    "# loading result\n",
    "result = pd.read_csv('../result.csv')\n",
    "\n",
    "result_sorted = result.sort_values('p_value').set_index('code')\n",
    "result_sorted.head()"
   ]
  },
  {
   "cell_type": "code",
   "execution_count": 19,
   "metadata": {
    "pycharm": {
     "name": "#%%\n"
    }
   },
   "outputs": [
    {
     "data": {
      "text/html": [
       "<div>\n",
       "<style scoped>\n",
       "    .dataframe tbody tr th:only-of-type {\n",
       "        vertical-align: middle;\n",
       "    }\n",
       "\n",
       "    .dataframe tbody tr th {\n",
       "        vertical-align: top;\n",
       "    }\n",
       "\n",
       "    .dataframe thead th {\n",
       "        text-align: right;\n",
       "    }\n",
       "</style>\n",
       "<table border=\"1\" class=\"dataframe\">\n",
       "  <thead>\n",
       "    <tr style=\"text-align: right;\">\n",
       "      <th></th>\n",
       "      <th>ir_bo</th>\n",
       "      <th>ir_rd</th>\n",
       "      <th>p_value</th>\n",
       "      <th>params</th>\n",
       "    </tr>\n",
       "    <tr>\n",
       "      <th>code</th>\n",
       "      <th></th>\n",
       "      <th></th>\n",
       "      <th></th>\n",
       "      <th></th>\n",
       "    </tr>\n",
       "  </thead>\n",
       "  <tbody>\n",
       "    <tr>\n",
       "      <th>600814.XSHG</th>\n",
       "      <td>0.937871</td>\n",
       "      <td>0.160188</td>\n",
       "      <td>0.0</td>\n",
       "      <td>{'A1': 30.0, 'A2': 30.0, 'A3': 113.92827466523...</td>\n",
       "    </tr>\n",
       "    <tr>\n",
       "      <th>000700.XSHE</th>\n",
       "      <td>2.210895</td>\n",
       "      <td>0.214871</td>\n",
       "      <td>0.0</td>\n",
       "      <td>{'A1': 29.75303368901085, 'A2': 45.63437687674...</td>\n",
       "    </tr>\n",
       "    <tr>\n",
       "      <th>000962.XSHE</th>\n",
       "      <td>2.265286</td>\n",
       "      <td>0.244988</td>\n",
       "      <td>0.0</td>\n",
       "      <td>{'A1': 7.042269790348411, 'A2': 32.52977535838...</td>\n",
       "    </tr>\n",
       "    <tr>\n",
       "      <th>600861.XSHG</th>\n",
       "      <td>1.945041</td>\n",
       "      <td>0.176118</td>\n",
       "      <td>0.0</td>\n",
       "      <td>{'A1': 8.687513662623159, 'A2': 30.0, 'A3': 12...</td>\n",
       "    </tr>\n",
       "    <tr>\n",
       "      <th>000617.XSHE</th>\n",
       "      <td>2.133844</td>\n",
       "      <td>0.279956</td>\n",
       "      <td>0.0</td>\n",
       "      <td>{'A1': 3.936430221328793, 'A2': 40.08325966929...</td>\n",
       "    </tr>\n",
       "    <tr>\n",
       "      <th>...</th>\n",
       "      <td>...</td>\n",
       "      <td>...</td>\n",
       "      <td>...</td>\n",
       "      <td>...</td>\n",
       "    </tr>\n",
       "    <tr>\n",
       "      <th>000421.XSHE</th>\n",
       "      <td>-2.325264</td>\n",
       "      <td>0.287481</td>\n",
       "      <td>1.0</td>\n",
       "      <td>{'A1': 13.267367970553476, 'A2': 52.8260746661...</td>\n",
       "    </tr>\n",
       "    <tr>\n",
       "      <th>600366.XSHG</th>\n",
       "      <td>-1.541452</td>\n",
       "      <td>0.726877</td>\n",
       "      <td>1.0</td>\n",
       "      <td>{'A1': 30.0, 'A2': 60.0, 'A3': 150.0, 'y1': 0....</td>\n",
       "    </tr>\n",
       "    <tr>\n",
       "      <th>600075.XSHG</th>\n",
       "      <td>-2.415492</td>\n",
       "      <td>0.173922</td>\n",
       "      <td>1.0</td>\n",
       "      <td>{'A1': 30.0, 'A2': 60.0, 'A3': 150.0, 'y1': 0....</td>\n",
       "    </tr>\n",
       "    <tr>\n",
       "      <th>600216.XSHG</th>\n",
       "      <td>-1.515371</td>\n",
       "      <td>0.544935</td>\n",
       "      <td>1.0</td>\n",
       "      <td>{'A1': 12.51066014107722, 'A2': 51.60973480326...</td>\n",
       "    </tr>\n",
       "    <tr>\n",
       "      <th>000416.XSHE</th>\n",
       "      <td>-1.675550</td>\n",
       "      <td>0.409112</td>\n",
       "      <td>1.0</td>\n",
       "      <td>{'A1': 2.770157843063934, 'A2': 35.58780634133...</td>\n",
       "    </tr>\n",
       "  </tbody>\n",
       "</table>\n",
       "<p>431 rows × 4 columns</p>\n",
       "</div>"
      ],
      "text/plain": [
       "                ir_bo     ir_rd  p_value  \\\n",
       "code                                       \n",
       "600814.XSHG  0.937871  0.160188      0.0   \n",
       "000700.XSHE  2.210895  0.214871      0.0   \n",
       "000962.XSHE  2.265286  0.244988      0.0   \n",
       "600861.XSHG  1.945041  0.176118      0.0   \n",
       "000617.XSHE  2.133844  0.279956      0.0   \n",
       "...               ...       ...      ...   \n",
       "000421.XSHE -2.325264  0.287481      1.0   \n",
       "600366.XSHG -1.541452  0.726877      1.0   \n",
       "600075.XSHG -2.415492  0.173922      1.0   \n",
       "600216.XSHG -1.515371  0.544935      1.0   \n",
       "000416.XSHE -1.675550  0.409112      1.0   \n",
       "\n",
       "                                                        params  \n",
       "code                                                            \n",
       "600814.XSHG  {'A1': 30.0, 'A2': 30.0, 'A3': 113.92827466523...  \n",
       "000700.XSHE  {'A1': 29.75303368901085, 'A2': 45.63437687674...  \n",
       "000962.XSHE  {'A1': 7.042269790348411, 'A2': 32.52977535838...  \n",
       "600861.XSHG  {'A1': 8.687513662623159, 'A2': 30.0, 'A3': 12...  \n",
       "000617.XSHE  {'A1': 3.936430221328793, 'A2': 40.08325966929...  \n",
       "...                                                        ...  \n",
       "000421.XSHE  {'A1': 13.267367970553476, 'A2': 52.8260746661...  \n",
       "600366.XSHG  {'A1': 30.0, 'A2': 60.0, 'A3': 150.0, 'y1': 0....  \n",
       "600075.XSHG  {'A1': 30.0, 'A2': 60.0, 'A3': 150.0, 'y1': 0....  \n",
       "600216.XSHG  {'A1': 12.51066014107722, 'A2': 51.60973480326...  \n",
       "000416.XSHE  {'A1': 2.770157843063934, 'A2': 35.58780634133...  \n",
       "\n",
       "[431 rows x 4 columns]"
      ]
     },
     "execution_count": 19,
     "metadata": {},
     "output_type": "execute_result"
    }
   ],
   "source": [
    "result_sorted.loc[\n",
    "    (result_sorted.ir_bo != 0) & (result_sorted.ir_rd != 0)\n",
    "]\n",
    "\n"
   ]
  },
  {
   "cell_type": "code",
   "execution_count": 22,
   "metadata": {
    "pycharm": {
     "name": "#%%\n"
    }
   },
   "outputs": [
    {
     "data": {
      "text/plain": [
       "<AxesSubplot:>"
      ]
     },
     "execution_count": 22,
     "metadata": {},
     "output_type": "execute_result"
    },
    {
     "data": {
      "image/png": "[encoded data removed]",
      "text/plain": [
       "<Figure size 432x288 with 1 Axes>"
      ]
     },
     "metadata": {
      "needs_background": "light"
     },
     "output_type": "display_data"
    }
   ],
   "source": [
    "result.ir_bo.hist()\n",
    "# result.ir_rd.hist()\n"
   ]
  },
  {
   "cell_type": "code",
   "execution_count": null,
   "metadata": {
    "pycharm": {
     "name": "#%%\n"
    }
   },
   "outputs": [],
   "source": []
  }
 ],
 "metadata": {
  "kernelspec": {
   "display_name": "Python 3",
   "language": "python",
   "name": "python3"
  },
  "language_info": {
   "codemirror_mode": {
    "name": "ipython",
    "version": 3
   },
   "file_extension": ".py",
   "mimetype": "text/x-python",
   "name": "python",
   "nbconvert_exporter": "python",
   "pygments_lexer": "ipython3",
   "version": "3.7.1"
  }
 },
 "nbformat": 4,
 "nbformat_minor": 1
}
